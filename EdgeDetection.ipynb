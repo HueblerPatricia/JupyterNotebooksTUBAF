{
 "cells": [
  {
   "cell_type": "markdown",
   "metadata": {},
   "source": [
    "# Digital image processing, part III:"
   ]
  },
  {
   "cell_type": "markdown",
   "metadata": {},
   "source": [
    "# Edge detection and mathematical morphology"
   ]
  },
  {
   "cell_type": "markdown",
   "metadata": {},
   "source": [
    "See on LiaScript https://liascript.github.io/course/?https://raw.githubusercontent.com/HueblerPatricia/LiaScriptTUBAF/main/EdgeDetection.md"
   ]
  },
  {
   "cell_type": "code",
   "execution_count": 1,
   "metadata": {},
   "outputs": [],
   "source": [
    "import numpy as np\n",
    "from scipy import misc\n",
    "import matplotlib.pyplot as plt"
   ]
  },
  {
   "cell_type": "markdown",
   "metadata": {},
   "source": [
    "## A picture to work with"
   ]
  },
  {
   "cell_type": "markdown",
   "metadata": {},
   "source": [
    "You may also use own pictures and import them using ..."
   ]
  },
  {
   "cell_type": "code",
   "execution_count": null,
   "metadata": {},
   "outputs": [],
   "source": [
    "import matplotlib.image as mpimg\n",
    "pict = mpimg.imread('path')"
   ]
  },
  {
   "cell_type": "markdown",
   "metadata": {},
   "source": [
    "Other oportunity: use a Pyton example picture(see code below) (Remark: May slow down your computer in later processing steps.)"
   ]
  },
  {
   "cell_type": "code",
   "execution_count": null,
   "metadata": {},
   "outputs": [],
   "source": [
    "racoon = misc.face()\n",
    "plt.imshow(racoon)\n",
    "plt.show()\n",
    "racoon.shape"
   ]
  },
  {
   "cell_type": "markdown",
   "metadata": {},
   "source": [
    "### Create a picture"
   ]
  },
  {
   "cell_type": "markdown",
   "metadata": {},
   "source": [
    "#### Some colors"
   ]
  },
  {
   "cell_type": "code",
   "execution_count": 2,
   "metadata": {},
   "outputs": [],
   "source": [
    "red           = [255,0  ,0  ]\n",
    "red_violet    = [255,0  ,64 ]\n",
    "red_wine      = [191,0  ,26 ]\n",
    "dark_red      = [64 ,0  ,0  ]\n",
    "green         = [0  ,255,0  ]\n",
    "blue          = [0  ,0  ,255]\n",
    "dark_blue     = [0  ,0  ,124]\n",
    "bright_blue   = [26 ,26 ,255]\n",
    "brown         = [145,111,124]\n",
    "purple        = [255,0  ,255]\n",
    "violet        = [126,0  ,255]\n",
    "yellow        = [255,255,0  ]\n",
    "deep_yellow   = [255,166,0  ]\n",
    "orange        = [255,212,45 ]\n",
    "cyan          = [0  ,255,255]\n",
    "blue_green    = [0  ,255,128]\n",
    "blueish_green = [0  ,255,64 ]\n",
    "white         = [255,255,255]\n",
    "black         = [0  ,0  ,0  ]"
   ]
  },
  {
   "cell_type": "markdown",
   "metadata": {},
   "source": [
    "#### Some color lists -> choose one!"
   ]
  },
  {
   "cell_type": "code",
   "execution_count": 4,
   "metadata": {},
   "outputs": [],
   "source": [
    "colorList_red = [red, red_wine, dark_red, yellow, deep_yellow, orange, brown]\n",
    "colorList_cyan = [green, blue, cyan, blue_green, blueish_green, dark_blue, bright_blue]\n",
    "\n",
    "colorList = colorList_cyan"
   ]
  },
  {
   "cell_type": "markdown",
   "metadata": {},
   "source": [
    "#### Array with 3 color layers as test image"
   ]
  },
  {
   "cell_type": "code",
   "execution_count": 5,
   "metadata": {},
   "outputs": [],
   "source": [
    "def rotateList(lst, rot):\n",
    "\n",
    "    '''Rotates a given list\n",
    "\n",
    "    Parameters\n",
    "    ----------\n",
    "    lst : list\n",
    "        list with entries of any data type\n",
    "    rot : integer\n",
    "        number of entries for the list to be rotated\n",
    "\n",
    "    Returns\n",
    "    -------\n",
    "    list\n",
    "        the rotated list\n",
    "    '''\n",
    "    l2 = lst[rot:] + lst[:rot]\n",
    "    return l2"
   ]
  },
  {
   "cell_type": "markdown",
   "metadata": {},
   "source": [
    "#### Function to draw picture"
   ]
  },
  {
   "cell_type": "code",
   "execution_count": 6,
   "metadata": {},
   "outputs": [],
   "source": [
    "#define the picture's side length\n",
    "pictSize = 120\n",
    "\n",
    "def drawSquares(colorList, pictSize):\n",
    "\n",
    "    '''creates a square shaped picture from colored squares\n",
    "\n",
    "    Parameters\n",
    "    ----------\n",
    "    colorList : list\n",
    "        list of rgb colors to use\n",
    "    pictSize : integer\n",
    "        side length of the future picture\n",
    "\n",
    "    Returns\n",
    "    -------\n",
    "    2D array\n",
    "        the ready and normed kernel\n",
    "    '''\n",
    "\n",
    "    pictSize = pictSize//len(colorList)\n",
    "    squareLen = pictSize\n",
    "    pictSize *= len(colorList)\n",
    "    pictarray = np.zeros([pictSize, pictSize, 3], dtype=np.uint8) #3 layers for r,g,b\n",
    "\n",
    "\n",
    "    lsta = 0\n",
    "    lstp = squareLen\n",
    "    for lines in range(0,len(colorList)):\n",
    "        csta = 0\n",
    "        cstp = squareLen\n",
    "        for col in range(0,len(colorList)):\n",
    "            pictarray[lsta:lstp,csta:cstp] = colorList[col]\n",
    "            csta += squareLen\n",
    "            cstp += squareLen\n",
    "        lsta += squareLen\n",
    "        lstp += squareLen\n",
    "        colorList = rotateList(colorList,-2)\n",
    "    return pictarray"
   ]
  },
  {
   "cell_type": "markdown",
   "metadata": {},
   "source": [
    "#### Plot the picture"
   ]
  },
  {
   "cell_type": "code",
   "execution_count": 8,
   "metadata": {},
   "outputs": [
    {
     "data": {
      "image/png": "[encoded data removed]",
      "text/plain": [
       "<Figure size 432x288 with 1 Axes>"
      ]
     },
     "metadata": {
      "needs_background": "light"
     },
     "output_type": "display_data"
    },
    {
     "data": {
      "text/plain": [
       "(119, 119, 3)"
      ]
     },
     "execution_count": 8,
     "metadata": {},
     "output_type": "execute_result"
    }
   ],
   "source": [
    "pictarray = drawSquares(colorList, pictSize)\n",
    "\n",
    "plt.imshow(pictarray)\n",
    "plt.show()\n",
    "pictarray.shape"
   ]
  },
  {
   "cell_type": "markdown",
   "metadata": {},
   "source": [
    "\"shape\" gives you: (y, x, 3) = (height, length, layers)\n",
    " -> 3 color layers, that means rgb <br>\n",
    " -> convert to grayscale to only work with one layer!"
   ]
  },
  {
   "cell_type": "code",
   "execution_count": 24,
   "metadata": {},
   "outputs": [
    {
     "data": {
      "image/png": "[encoded data removed]",
      "text/plain": [
       "<Figure size 432x288 with 1 Axes>"
      ]
     },
     "metadata": {
      "needs_background": "light"
     },
     "output_type": "display_data"
    },
    {
     "data": {
      "text/plain": [
       "(119, 119)"
      ]
     },
     "execution_count": 24,
     "metadata": {},
     "output_type": "execute_result"
    }
   ],
   "source": [
    "from skimage.color import rgb2gray\n",
    "\n",
    "gray = rgb2gray(pictarray)\n",
    "\n",
    "plt.imshow(gray, cmap = plt.get_cmap('gray'))\n",
    "plt.show()\n",
    "gray.shape"
   ]
  },
  {
   "cell_type": "markdown",
   "metadata": {},
   "source": [
    "## Edge detection"
   ]
  },
  {
   "cell_type": "markdown",
   "metadata": {},
   "source": [
    "Literature for this chapter: Gonzalez, Woods: Digital Image Processing. Third Edition. PHI Learning Private Limited. New Delhi, 2008. Chapter 10"
   ]
  },
  {
   "cell_type": "markdown",
   "metadata": {},
   "source": [
    "-> Edge detection = linear filtering with special filter masks"
   ]
  },
  {
   "cell_type": "markdown",
   "metadata": {},
   "source": [
    "### Filter masks for edge detection"
   ]
  },
  {
   "cell_type": "markdown",
   "metadata": {},
   "source": [
    "#### Roberts"
   ]
  },
  {
   "cell_type": "code",
   "execution_count": 14,
   "metadata": {},
   "outputs": [],
   "source": [
    "roberts_45 = np.array([[0,-1],[1,0]], dtype = float)\n",
    "roberts_135 = np.array([[-1,0],[0,1]], dtype = float)"
   ]
  },
  {
   "cell_type": "markdown",
   "metadata": {},
   "source": [
    "#### Prewitt"
   ]
  },
  {
   "cell_type": "code",
   "execution_count": 15,
   "metadata": {},
   "outputs": [],
   "source": [
    "prewitt_x = np.array([[-1,0,1],[-1,0,1],[-1,0,1]], dtype = float)\n",
    "prewitt_y = np.array([[-1,-1,-1],[0,0,0],[1,1,1]], dtype = float)\n",
    "\n",
    "prewitt_45 = np.array([[0,1,1],[-1,0,1],[-1,-1,0]], dtype = float)\n",
    "prewitt_135 = np.array([[-1,-1,0],[-1,0,1],[0,1,1]], dtype = float)"
   ]
  },
  {
   "cell_type": "markdown",
   "metadata": {},
   "source": [
    "#### Sobel"
   ]
  },
  {
   "cell_type": "code",
   "execution_count": 16,
   "metadata": {},
   "outputs": [],
   "source": [
    "sobel_x = np.array([[-1,0,1],[-2,0,2],[-1,0,1]], dtype = float)\n",
    "sobel_y = np.array([[-1,-2,-1],[0,0,0],[1,2,1]], dtype = float)\n",
    "\n",
    "sobel_45 = np.array([[0,1,2],[-1,0,1],[-2,-1,0]], dtype = float)\n",
    "sobel_135 = np.array([[-2,-1,0],[-1,0,1],[0,1,2]], dtype = float)"
   ]
  },
  {
   "cell_type": "markdown",
   "metadata": {},
   "source": [
    "#### Laplace directional"
   ]
  },
  {
   "cell_type": "code",
   "execution_count": 17,
   "metadata": {},
   "outputs": [],
   "source": [
    "laplace_x = np.array([[-1,2,-1],[-1,2,-1],[-1,2,-1]], dtype = float)\n",
    "laplace_y = np.array([[-1,-1,-1],[2,2,2],[-1,-1,-1]], dtype = float)\n",
    "\n",
    "laplace_45 = np.array([[2,-1,-1],[-1,2,-1],[-1,-1,2]], dtype = float)\n",
    "laplace_135 = np.array([[-1,-1,2],[-1,2,-1],[2,-1,-1]], dtype = float)"
   ]
  },
  {
   "cell_type": "markdown",
   "metadata": {},
   "source": [
    "### Functions for image filtering"
   ]
  },
  {
   "cell_type": "markdown",
   "metadata": {},
   "source": [
    "For explanation see chapter \"Digital image processing, part I: digital image filters\"."
   ]
  },
  {
   "cell_type": "markdown",
   "metadata": {},
   "source": [
    "#### Convolution function"
   ]
  },
  {
   "cell_type": "code",
   "execution_count": 18,
   "metadata": {},
   "outputs": [],
   "source": [
    "def convolve(kernel,pictpart):\n",
    "\n",
    "    '''convolution in 2D\n",
    "\n",
    "    Parameters\n",
    "    ----------\n",
    "    kernel : 2D array of numbers\n",
    "       the filter mask to use\n",
    "       \n",
    "    pictpart : 2D array of numbers\n",
    "       currently active part of the picture\n",
    "    \n",
    "\n",
    "    Returns\n",
    "    -------\n",
    "    float\n",
    "       the new color value\n",
    "    '''\n",
    "    \n",
    "    \n",
    "    s = 0.0\n",
    "    temparr=np.multiply(kernel,pictpart)\n",
    "    s = sum(temparr)\n",
    "    s = sum(s)\n",
    "    return s"
   ]
  },
  {
   "cell_type": "markdown",
   "metadata": {},
   "source": [
    "#### Filter process"
   ]
  },
  {
   "cell_type": "code",
   "execution_count": 19,
   "metadata": {},
   "outputs": [],
   "source": [
    "def filter_image(pict, kernel):\n",
    "\n",
    "    '''image filtering\n",
    "\n",
    "    Parameters\n",
    "    ----------\n",
    "    pict : 2D array of numbers\n",
    "       an image of grayscale values\n",
    "\n",
    "    kernel : 2D array of numbers\n",
    "       the filter mask to use\n",
    "\n",
    "    Returns\n",
    "    -------\n",
    "    2D array\n",
    "       the modified grayscale image\n",
    "    '''\n",
    "    \n",
    "    newpict = pict[0:][0:].copy()\n",
    "    newpict.fill(0)\n",
    "    \n",
    "    pictpart = kernel.copy()\n",
    "    pictpart.fill(0)\n",
    "\n",
    "    for i in range(0+(kernel.shape[0]//2),  len(pict)-(kernel.shape[0])):\n",
    "        for j in range(0+(kernel.shape[1]//2),  len(pict[1])-(kernel.shape[1])):\n",
    "            \n",
    "            for k in range(0,  (kernel.shape[0])):\n",
    "                for l in range(0,  (kernel.shape[1])):\n",
    "                    pictpart[k][l]=pict[i+k][j+l]\n",
    "            newpict[i+(kernel.shape[0]//2)][j+(kernel.shape[1]//2)]=convolve(kernel, pictpart)\n",
    "    return newpict"
   ]
  },
  {
   "cell_type": "markdown",
   "metadata": {},
   "source": [
    "### Try out every filter"
   ]
  },
  {
   "cell_type": "markdown",
   "metadata": {},
   "source": [
    "#### Sobel"
   ]
  },
  {
   "cell_type": "code",
   "execution_count": 25,
   "metadata": {},
   "outputs": [],
   "source": [
    "img_sobel_x = filter_image(gray, sobel_x)\n",
    "img_sobel_y = filter_image(gray, sobel_y)\n",
    "img_sobel_45 = filter_image(gray, sobel_45)\n",
    "img_sobel_135 = filter_image(gray, sobel_135)"
   ]
  },
  {
   "cell_type": "markdown",
   "metadata": {},
   "source": [
    "#### Prewitt"
   ]
  },
  {
   "cell_type": "code",
   "execution_count": 26,
   "metadata": {},
   "outputs": [],
   "source": [
    "img_prewitt_x = filter_image(gray, prewitt_x)\n",
    "img_prewitt_y = filter_image(gray, prewitt_y)\n",
    "img_prewitt_45 = filter_image(gray, prewitt_45)\n",
    "img_prewitt_135 = filter_image(gray, prewitt_135)"
   ]
  },
  {
   "cell_type": "markdown",
   "metadata": {},
   "source": [
    "#### Laplace directional"
   ]
  },
  {
   "cell_type": "code",
   "execution_count": 27,
   "metadata": {},
   "outputs": [],
   "source": [
    "img_laplace_x = filter_image(gray, laplace_x)\n",
    "img_laplace_y = filter_image(gray, laplace_y)\n",
    "img_laplace_45 = filter_image(gray, laplace_45)\n",
    "img_laplace_135 = filter_image(gray, laplace_135)"
   ]
  },
  {
   "cell_type": "markdown",
   "metadata": {},
   "source": [
    "### Results"
   ]
  },
  {
   "cell_type": "markdown",
   "metadata": {},
   "source": [
    "#### Different directions of Prewitt filter"
   ]
  },
  {
   "cell_type": "code",
   "execution_count": 28,
   "metadata": {},
   "outputs": [
    {
     "data": {
      "text/plain": [
       "Text(0.5, 1.0, '2nd diagonal')"
      ]
     },
     "execution_count": 28,
     "metadata": {},
     "output_type": "execute_result"
    },
    {
     "data": {
      "image/png": "[encoded data removed]",
      "text/plain": [
       "<Figure size 576x576 with 4 Axes>"
      ]
     },
     "metadata": {
      "needs_background": "light"
     },
     "output_type": "display_data"
    }
   ],
   "source": [
    "cmap = plt.get_cmap('gray')\n",
    "\n",
    "fig = plt.figure(figsize=(8,8))\n",
    "plt.suptitle('Prewitt filter operators')\n",
    "sub1 = plt.subplot(2, 2, 1)\n",
    "sub1.imshow(img_prewitt_x, cmap = cmap)\n",
    "sub1.set_title('x direction')\n",
    "sub2 = plt.subplot(2, 2, 2)\n",
    "sub2.imshow(img_prewitt_y, cmap = cmap)\n",
    "sub2.set_title('y direction')\n",
    "sub3 = plt.subplot(2, 2, 3)\n",
    "sub3.imshow(img_prewitt_45, cmap = cmap)\n",
    "sub3.set_title('1st diagonal')\n",
    "sub4 = plt.subplot(2, 2, 4)\n",
    "sub4.imshow(img_prewitt_135, cmap = cmap)\n",
    "sub4.set_title('2nd diagonal')\n",
    "\n"
   ]
  },
  {
   "cell_type": "markdown",
   "metadata": {},
   "source": [
    "#### Compare Prewitt and Sobel"
   ]
  },
  {
   "cell_type": "markdown",
   "metadata": {},
   "source": [
    "Sobel is a little stronger than Prewitt because of the filter mask's higher absolute values."
   ]
  },
  {
   "cell_type": "code",
   "execution_count": 32,
   "metadata": {},
   "outputs": [
    {
     "data": {
      "text/plain": [
       "Text(0.5, 1.0, 'Sobel')"
      ]
     },
     "execution_count": 32,
     "metadata": {},
     "output_type": "execute_result"
    },
    {
     "data": {
      "image/png": "[encoded data removed]",
      "text/plain": [
       "<Figure size 720x720 with 2 Axes>"
      ]
     },
     "metadata": {
      "needs_background": "light"
     },
     "output_type": "display_data"
    }
   ],
   "source": [
    "cmap = plt.get_cmap('gray')\n",
    "\n",
    "fig = plt.figure(figsize=(10,10))\n",
    "plt.suptitle('Compare Prewitt and Sobel')\n",
    "sub1 = plt.subplot(2, 2, 1)\n",
    "sub1.imshow(img_prewitt_45, cmap = cmap)\n",
    "sub1.set_title('Prewitt')\n",
    "sub2 = plt.subplot(2, 2, 2)\n",
    "sub2.imshow(img_sobel_45, cmap = cmap)\n",
    "sub2.set_title('Sobel')"
   ]
  },
  {
   "cell_type": "markdown",
   "metadata": {},
   "source": [
    "#### Compare Sobel, Prewitt and Laplace directional"
   ]
  },
  {
   "cell_type": "code",
   "execution_count": 30,
   "metadata": {},
   "outputs": [
    {
     "data": {
      "image/png": "[encoded data removed]",
      "text/plain": [
       "<Figure size 864x864 with 12 Axes>"
      ]
     },
     "metadata": {
      "needs_background": "light"
     },
     "output_type": "display_data"
    }
   ],
   "source": [
    "cmap = plt.get_cmap('gray')\n",
    "\n",
    "imgs = [img_prewitt_x, \n",
    "        img_prewitt_y, \n",
    "        img_prewitt_45, \n",
    "        img_prewitt_135,\n",
    "        img_sobel_x, \n",
    "        img_sobel_y, \n",
    "        img_sobel_45, \n",
    "        img_sobel_135,\n",
    "        img_laplace_x,\n",
    "        img_laplace_y,\n",
    "        img_laplace_45,\n",
    "        img_laplace_135\n",
    "        ]\n",
    "titles = [\"Prewitt x direction\", \n",
    "          \"Prewitt y direction\", \n",
    "          \"Prewitt 1st diagonal\", \n",
    "          \"Prewitt 2nd diagonal\",\n",
    "          \"Sobel x direction\", \n",
    "          \"Sobel y direction\", \n",
    "          \"Sobel 1st diagonal\", \n",
    "          \"Sobel 2nd diagonal\",\n",
    "          \"Laplace x direction\", \n",
    "          \"Laplace y direction\", \n",
    "          \"Laplace 1st diagonal\", \n",
    "          \"Laplace 2nd diagonal\"\n",
    "          ]\n",
    "\n",
    "fig = plt.figure(figsize=(12,12))\n",
    "plt.suptitle('Filter operators')\n",
    "i = 0\n",
    "for elem in imgs:\n",
    "    i += 1\n",
    "    subi = plt.subplot(4, 4, i)\n",
    "    subi.imshow(elem, cmap = cmap)\n",
    "    subi.set_title(titles[i-1])\n"
   ]
  },
  {
   "cell_type": "markdown",
   "metadata": {},
   "source": [
    "#### Roberts filter"
   ]
  },
  {
   "cell_type": "markdown",
   "metadata": {},
   "source": [
    "The filter mask is just 2x2. Because of that the results contain narrower lines."
   ]
  },
  {
   "cell_type": "code",
   "execution_count": 33,
   "metadata": {},
   "outputs": [
    {
     "data": {
      "text/plain": [
       "<matplotlib.image.AxesImage at 0x1d903c37ac8>"
      ]
     },
     "execution_count": 33,
     "metadata": {},
     "output_type": "execute_result"
    },
    {
     "data": {
      "image/png": "[encoded data removed]",
      "text/plain": [
       "<Figure size 576x576 with 2 Axes>"
      ]
     },
     "metadata": {
      "needs_background": "light"
     },
     "output_type": "display_data"
    }
   ],
   "source": [
    "img_roberts_45 = filter_image(gray, roberts_45)\n",
    "img_roberts_135 = filter_image(gray, roberts_135)\n",
    "\n",
    "cmap = plt.get_cmap('gray')\n",
    "\n",
    "fig = plt.figure(figsize=(8,8))\n",
    "plt.suptitle('Roberts')\n",
    "sub1 = plt.subplot(2, 2, 1)\n",
    "sub1.imshow(img_roberts_45, cmap = cmap)\n",
    "sub2 = plt.subplot(2, 2, 2)\n",
    "sub2.imshow(img_roberts_135, cmap = cmap)"
   ]
  },
  {
   "cell_type": "markdown",
   "metadata": {},
   "source": [
    "## Point detection"
   ]
  },
  {
   "cell_type": "markdown",
   "metadata": {},
   "source": [
    "Point detection = edge detection in different directions"
   ]
  },
  {
   "cell_type": "markdown",
   "metadata": {},
   "source": [
    "### Using Sobel"
   ]
  },
  {
   "cell_type": "markdown",
   "metadata": {},
   "source": [
    "One opportunity: Add Sobel filtered images of all directions."
   ]
  },
  {
   "cell_type": "code",
   "execution_count": 44,
   "metadata": {},
   "outputs": [
    {
     "data": {
      "image/png": "[encoded data removed]",
      "text/plain": [
       "<Figure size 576x576 with 2 Axes>"
      ]
     },
     "metadata": {
      "needs_background": "light"
     },
     "output_type": "display_data"
    }
   ],
   "source": [
    "img_sobel_2 = 0.5 * (img_sobel_x + img_sobel_y)\n",
    "img_sobel_4 = 0.25 * (img_sobel_x + img_sobel_y + img_sobel_45 + img_sobel_135)\n",
    "\n",
    "fig = plt.figure(figsize=(8,8))\n",
    "plt.suptitle('Sobel filter for point detection')\n",
    "sub1 = plt.subplot(2, 2, 1)\n",
    "sub1.imshow(img_sobel_2, cmap = cmap)\n",
    "sub1.set_title('2 directions')\n",
    "sub2 = plt.subplot(2, 2, 2)\n",
    "sub2.imshow(img_sobel_4, cmap = cmap)\n",
    "sub2.set_title('4 directions')\n",
    "plt.imshow(img_sobel, cmap = cmap)\n",
    "plt.show()"
   ]
  },
  {
   "cell_type": "markdown",
   "metadata": {},
   "source": [
    "### The Laplacian operator"
   ]
  },
  {
   "cell_type": "markdown",
   "metadata": {},
   "source": [
    "Better opportunity: Use a filter mask that needs only one step to do what we want."
   ]
  },
  {
   "cell_type": "code",
   "execution_count": 34,
   "metadata": {},
   "outputs": [],
   "source": [
    "laplace = np.array([[1,1,1],[1,-8,1],[1,1,1]], dtype = float) "
   ]
  },
  {
   "cell_type": "code",
   "execution_count": 35,
   "metadata": {},
   "outputs": [
    {
     "data": {
      "image/png": "[encoded data removed]",
      "text/plain": [
       "<Figure size 432x288 with 1 Axes>"
      ]
     },
     "metadata": {
      "needs_background": "light"
     },
     "output_type": "display_data"
    }
   ],
   "source": [
    "img_laplace = filter_image(gray, laplace)\n",
    "\n",
    "plt.imshow(img_laplace, cmap = cmap)\n",
    "plt.show()"
   ]
  },
  {
   "cell_type": "markdown",
   "metadata": {},
   "source": [
    "### Some additional words"
   ]
  },
  {
   "cell_type": "markdown",
   "metadata": {},
   "source": [
    "Edge detection is useful for seeing shapes in CT images, for example, but also interesting in any other picture. <br> <br>\n",
    "\n",
    "Is is easily possible to increase or decrease strength of the gradient or change to a certain direction that is interesting.<br> <br>\n",
    "\n",
    "Is is also possible to change the size of the filter mask, that will give you only wider edges, not the smallest ones.<br> <br>\n",
    "\n",
    "You can also take the edges and combine them with any result of filtering. For example, you first take the edges and only blur them or the other way around: You take the edges, blur the rest and add the original edges back onto the picture.<br> <br>\n",
    "\n",
    "$ \\textbf{There are many opportunities to use image filters and edge detection. Just try out, if you are interested!} $"
   ]
  }
 ],
 "metadata": {
  "kernelspec": {
   "display_name": "Python 3",
   "language": "python",
   "name": "python3"
  },
  "language_info": {
   "codemirror_mode": {
    "name": "ipython",
    "version": 3
   },
   "file_extension": ".py",
   "mimetype": "text/x-python",
   "name": "python",
   "nbconvert_exporter": "python",
   "pygments_lexer": "ipython3",
   "version": "3.7.3"
  }
 },
 "nbformat": 4,
 "nbformat_minor": 2
}
