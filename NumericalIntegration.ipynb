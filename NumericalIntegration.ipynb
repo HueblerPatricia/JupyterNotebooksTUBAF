{
 "cells": [
  {
   "cell_type": "markdown",
   "metadata": {},
   "source": [
    "# Numerical Integration"
   ]
  },
  {
   "cell_type": "markdown",
   "metadata": {},
   "source": [
    "Literature:\n",
    " - Meister, Andreas u. Sonar, Thomas: Numerik. Eine lebendige und gut verständliche Einführung mit vielen Beispielen. Springer-Verlag GmbH Deutschland, 2019\n",
    " - https://www.mathi.uni-heidelberg.de/~thaeter/anasem08/Isenhardt.pdf\n",
    " - https://www.math.uni-hamburg.de/teaching/export/tuhh/cm/a2/07/vorl12_ana.pdf"
   ]
  },
  {
   "cell_type": "markdown",
   "metadata": {},
   "source": [
    "## Basics"
   ]
  },
  {
   "cell_type": "markdown",
   "metadata": {},
   "source": [
    "The goal is to find an approximation for some integral like the following: <br>\n",
    "$I = \\int_{a}^{b} f(x) \\,dx$ <br>\n",
    "To solve this problem we need the antiderivative of the given function: <br>\n",
    "$F(x) = \\int_{t_{0}}^{t} f(s) \\,ds$ <br>\n",
    "In real situations we can't compute this antiderivative. So the only opportunity is to calculate the integral numerically."
   ]
  },
  {
   "cell_type": "markdown",
   "metadata": {},
   "source": [
    "## Newton-Cotes formulas"
   ]
  },
  {
   "cell_type": "markdown",
   "metadata": {},
   "source": [
    "The Newton-Cotes-formulas are a common and easy possibility to solve our problem numerically: <br>\n",
    "$I \\approx Q_{n+1}[f] = \\dfrac{b-a}{n}\\cdot \\sum_{i=0}^n \\alpha_{i} f(x_{i}) = h\\cdot \\sum_{i=0}^n \\alpha_{i} f(x_{i})$ <br>\n",
    "Meaning of the variables:<br>\n",
    "\n",
    "| variable           | meaning                                |\n",
    "|--------------------|----------------------------------------|\n",
    "| $I$                | integral                               |\n",
    "| $Q_{n+1}[f]$       | Newton-Cotes-rule                      |\n",
    "| $a$                | lower integration boundary             |\n",
    "| $b$                | upper integration boundary             |\n",
    "| $n$                | number of subdivisions of the interval |\n",
    "| $\\alpha_{i}$       | Newton-Cotes-weights (see below)       |\n",
    "| $f$                | given function                         |\n",
    "| $h$                | step size: $h = \\dfrac{b-a}{n}$        |\n",
    "| $i$                | number with $ (i = 0, 1, ..., n) $     |"
   ]
  },
  {
   "cell_type": "markdown",
   "metadata": {},
   "source": [
    "### Newton-Cotes weights"
   ]
  },
  {
   "cell_type": "markdown",
   "metadata": {},
   "source": [
    "| n   | name             | nodes in x | weights                                                                            |\n",
    "|-----|------------------|------------|------------------------------------------------------------------------------------|\n",
    "| 1   | trapezoidal rule | 0 1        | $\\dfrac{1}{2}$ $\\dfrac{1}{2}$                                                      |\n",
    "| 2   | Simpson-rule     | 0 $\\dfrac{1}{2}$  1 | $\\dfrac{1}{3}$ $\\dfrac{4}{3}$ $\\dfrac{1}{3}$                              |\n",
    "| 3   | 3/8-rule         | 0 $\\dfrac{1}{3}$  $\\dfrac{2}{3}$  1 | $\\dfrac{3}{8}$ $\\dfrac{9}{8}$ $\\dfrac{9}{8}$ $\\dfrac{3}{8}$|\n",
    "| ... | ...              | ...                                                                                             |"
   ]
  },
  {
   "cell_type": "markdown",
   "metadata": {},
   "source": [
    "Remark: Already implemented in SciPy. But if you really want to understand, what the formulas do, do it yourself!<br><br>\n",
    "(source: Meister, Andreas u. Sonar, Thomas: Numerik. Eine lebendige und gut verständliche Einführung mit vielen Beispielen. Springer-Verlag GmbH Deutschland, 2019)"
   ]
  },
  {
   "cell_type": "markdown",
   "metadata": {},
   "source": [
    "## The trapezoidal rule in Python "
   ]
  },
  {
   "cell_type": "code",
   "execution_count": 33,
   "metadata": {},
   "outputs": [],
   "source": [
    "import matplotlib.pyplot as plt\n",
    "import numpy as np\n",
    "import scipy.integrate"
   ]
  },
  {
   "cell_type": "markdown",
   "metadata": {},
   "source": [
    "### Some function to be integrated"
   ]
  },
  {
   "cell_type": "markdown",
   "metadata": {},
   "source": [
    "$\\rightarrow $ integral = surface below the graph"
   ]
  },
  {
   "cell_type": "code",
   "execution_count": 2,
   "metadata": {},
   "outputs": [
    {
     "data": {
      "image/png": "[encoded data removed]",
      "text/plain": [
       "<Figure size 432x288 with 1 Axes>"
      ]
     },
     "metadata": {
      "needs_background": "light"
     },
     "output_type": "display_data"
    }
   ],
   "source": [
    "x1 = np.linspace( 0, 1, 100 ) # x values\n",
    "f1 = -(x1-0.5)**2 + .25       # y values by any function\n",
    "\n",
    "plt.plot(x1,f1)\n",
    "plt.fill_between(x1, f1, color=\"b\", alpha=.1)\n",
    "plt.show()"
   ]
  },
  {
   "cell_type": "markdown",
   "metadata": {},
   "source": [
    "### Integration with one trapezium"
   ]
  },
  {
   "cell_type": "code",
   "execution_count": 46,
   "metadata": {},
   "outputs": [
    {
     "data": {
      "image/png": "[encoded data removed]",
      "text/plain": [
       "<Figure size 432x288 with 1 Axes>"
      ]
     },
     "metadata": {
      "needs_background": "light"
     },
     "output_type": "display_data"
    }
   ],
   "source": [
    "x1 = np.linspace( 0, 1, 100 )\n",
    "f1 = -(x1-0.5)**2 + .25\n",
    "\n",
    "end = len(x1)-1\n",
    "\n",
    "x_values = [x1[0], x1[end]]\n",
    "y_values = [f1[0], f1[end]]\n",
    "\n",
    "plt.plot(x1,f1)\n",
    "plt.plot(x_values, y_values)\n",
    "plt.fill_between(x_values, y_values, color=\"r\", alpha=.1)\n",
    "plt.show()"
   ]
  },
  {
   "cell_type": "markdown",
   "metadata": {},
   "source": [
    "integration: \n",
    " - take starting and ending point\n",
    " - join them by straigt line\n",
    " - calculate surface of trapezium under line\n",
    "<br>$\\rightarrow $ Here: both = 0 $\\rightarrow $ no surface! <br>\n",
    "$\\rightarrow $ subdivide interval!"
   ]
  },
  {
   "cell_type": "markdown",
   "metadata": {},
   "source": [
    "### Integration with two trapezia"
   ]
  },
  {
   "cell_type": "code",
   "execution_count": 3,
   "metadata": {},
   "outputs": [
    {
     "data": {
      "image/png": "[encoded data removed]",
      "text/plain": [
       "<Figure size 432x288 with 1 Axes>"
      ]
     },
     "metadata": {
      "needs_background": "light"
     },
     "output_type": "display_data"
    }
   ],
   "source": [
    "x1 = np.linspace( 0, 1, 100 )\n",
    "f1 = -(x1-0.5)**2 + .25\n",
    "\n",
    "end = len(x1)-1\n",
    "middle = 50\n",
    "\n",
    "x_values = [x1[0], x1[middle], x1[end]]\n",
    "y_values = [f1[0], f1[middle], f1[end]]\n",
    "\n",
    "plt.plot(x1,f1)\n",
    "plt.plot(x_values, y_values)\n",
    "plt.axvline(x1[50], ymin=0.05, ymax=.95, color=\"r\")\n",
    "plt.fill_between(x_values, y_values, color=\"r\", alpha=.1)\n",
    "plt.show()"
   ]
  },
  {
   "cell_type": "markdown",
   "metadata": {},
   "source": [
    "result: difference between trapezia and graph quite big! <br>\n",
    "$\\rightarrow $ more subdivision!"
   ]
  },
  {
   "cell_type": "markdown",
   "metadata": {},
   "source": [
    "Remark: now calculation over interval as sum of several trapezia $\\rightarrow $ \"compound trapezoidal rule\""
   ]
  },
  {
   "cell_type": "markdown",
   "metadata": {},
   "source": [
    "### Integration with more trapezia"
   ]
  },
  {
   "cell_type": "code",
   "execution_count": 4,
   "metadata": {},
   "outputs": [
    {
     "data": {
      "image/png": "[encoded data removed]",
      "text/plain": [
       "<Figure size 432x288 with 1 Axes>"
      ]
     },
     "metadata": {
      "needs_background": "light"
     },
     "output_type": "display_data"
    }
   ],
   "source": [
    "x1 = np.linspace( 0, 1, 100 )\n",
    "f1 = -(x1-0.5)**2 + .25\n",
    "\n",
    "end = len(x1)-1\n",
    "\n",
    "x_values = [x1[0], x1[25], x1[50], x1[75], x1[end]]\n",
    "y_values = [f1[0], f1[25], f1[50], f1[75], f1[end]]\n",
    "\n",
    "plt.plot(x1,f1)\n",
    "plt.plot(x_values, y_values)\n",
    "plt.fill_between(x_values, y_values, color=\"r\", alpha=.1)\n",
    "\n",
    "plt.axvline(x1[25], ymin=0.05, ymax=.73, color=\"r\")\n",
    "plt.axvline(x1[50], ymin=0.05, ymax=.95, color=\"r\")\n",
    "plt.axvline(x1[75], ymin=0.05, ymax=.71, color=\"r\")\n",
    "\n",
    "plt.show()"
   ]
  },
  {
   "cell_type": "markdown",
   "metadata": {},
   "source": [
    "$\\rightarrow $ result becomes better"
   ]
  },
  {
   "cell_type": "markdown",
   "metadata": {},
   "source": [
    "### Trapezoidal rule based on graphical imagination"
   ]
  },
  {
   "cell_type": "markdown",
   "metadata": {},
   "source": [
    "Check our result by taking a function with known result: <br>\n",
    "$\\Large\\int_{0}^{1} \\normalsize\\dfrac{1}{1+x^2} \\,dx = arctan(1) - arctan(0) = \\dfrac{1}{4} \\pi$"
   ]
  },
  {
   "cell_type": "markdown",
   "metadata": {},
   "source": [
    "#### Some important functions"
   ]
  },
  {
   "cell_type": "code",
   "execution_count": 5,
   "metadata": {},
   "outputs": [],
   "source": [
    "from numpy import pi\n",
    "\n",
    "def TrapeziumSurface( a,c,h ):\n",
    "    A = 0.0\n",
    "    A = 0.5 * ( a + c ) * h\n",
    "    return A\n",
    "\n",
    "def f(x):\n",
    "    y = 1 / (1 + x*x)\n",
    "    return y\n"
   ]
  },
  {
   "cell_type": "code",
   "execution_count": 7,
   "metadata": {},
   "outputs": [
    {
     "name": "stdout",
     "output_type": "stream",
     "text": [
      "Pi is around:  3.141592486923127\n",
      "The error is:  1.6666666624587378e-07\n"
     ]
    }
   ],
   "source": [
    "x = 0.0\n",
    "dx = 0.001\n",
    "ya = 0.0\n",
    "yb = 0.0\n",
    "trapezium = 0.0\n",
    "trapezium_sum = 0.0\n",
    "pi_computed = 0.0\n",
    "error = 0.0\n",
    "while (x <= 1):\n",
    "    ya = f(x)\n",
    "    x = x + dx\n",
    "    yb = f(x)\n",
    "    trapezium = TrapeziumSurface(ya, yb, dx)\n",
    "    trapezium_sum = trapezium + trapezium_sum\n",
    "    \n",
    "pi_computed = trapezium_sum * 4\n",
    "\n",
    "print (\"Pi is around: \", pi_computed)\n",
    "print (\"The error is: \", (np.pi-pi_computed))"
   ]
  },
  {
   "cell_type": "markdown",
   "metadata": {},
   "source": [
    "### Errors depending on subdivisions"
   ]
  },
  {
   "cell_type": "code",
   "execution_count": 8,
   "metadata": {},
   "outputs": [
    {
     "data": {
      "image/png": "[encoded data removed]",
      "text/plain": [
       "<Figure size 432x288 with 1 Axes>"
      ]
     },
     "metadata": {
      "needs_background": "light"
     },
     "output_type": "display_data"
    }
   ],
   "source": [
    "#boundaries:\n",
    "a = 0.0\n",
    "b = 1.0\n",
    "\n",
    "subdivisions = list()\n",
    "errors = list()\n",
    "\n",
    "for n in range(1,100):\n",
    "    x = a\n",
    "    dx = (b-a)/n\n",
    "    ya = 0.0\n",
    "    yb = 0.0\n",
    "    trapezium = 0.0\n",
    "    trapezium_sum = 0.0\n",
    "    pi_comp = 0.0\n",
    "    error = 0.0\n",
    "    \n",
    "    while (x <= b):\n",
    "        ya = f(x)\n",
    "        x = x + dx\n",
    "        yb = f(x)\n",
    "        trapezium = TrapeziumSurface(ya, yb, dx)\n",
    "        trapezium_sum = trapezium + trapezium_sum\n",
    "    \n",
    "    pi_comp = trapezium_sum * 4\n",
    "    error = np.pi - pi_comp\n",
    "    subdivisions.append(n)\n",
    "    errors.append(error)\n",
    "\n",
    "fig, ax = plt.subplots()\n",
    "plt.plot(subdivisions,errors)\n",
    "ax.set_xlabel(\"number of subdivisions\")\n",
    "ax.set_ylabel(\"error\")\n",
    "plt.show()"
   ]
  },
  {
   "cell_type": "markdown",
   "metadata": {},
   "source": [
    "- in theory: smooth graph\n",
    "- in reality: peaks caused by smallest printable number on a computer $\\rightarrow $ don't forget!"
   ]
  },
  {
   "cell_type": "markdown",
   "metadata": {},
   "source": [
    "### Trapezoidal rule based on formulas"
   ]
  },
  {
   "cell_type": "markdown",
   "metadata": {},
   "source": [
    "Formula for the trapezoidal rule: <br>\n",
    "$F_{N}(f) = \\dfrac{\\Delta x}{2}\\cdot \\Large\\sum_{i=1}^{N}\\normalsize (f(x_{i}) + f(x_{i-1}))$"
   ]
  },
  {
   "cell_type": "code",
   "execution_count": 9,
   "metadata": {},
   "outputs": [],
   "source": [
    "def trapz(f,a,b,N=50):\n",
    "    \n",
    "    '''Approximate the integral of f(x) from a to b by the trapezoid rule.\n",
    "\n",
    "    Parameters\n",
    "    ----------\n",
    "    f : function\n",
    "        Vectorized function of a single variable like f(x)\n",
    "    a , b : numbers\n",
    "        Interval of integration [a,b]\n",
    "    N : integer\n",
    "        Number of subintervals of [a,b]\n",
    "\n",
    "    Returns\n",
    "    -------\n",
    "    float\n",
    "        Approximation of the integral of f(x) from a to b using the\n",
    "        trapezoid rule with N subintervals of equal length.\n",
    "    '''\n",
    "    x = np.linspace(a,b,N+1) # N+1 points make N subintervals\n",
    "    y = f(x)\n",
    "    y_right = y[1:] # right endpoints\n",
    "    y_left = y[:-1] # left endpoints\n",
    "    dx = (b - a)/N\n",
    "    T = (dx/2) * np.sum(y_right + y_left)\n",
    "    return T"
   ]
  },
  {
   "cell_type": "markdown",
   "metadata": {},
   "source": [
    "(source for formula and source code: https://www.math.ubc.ca/~pwalls/math-python/integration/trapezoid-rule/)"
   ]
  },
  {
   "cell_type": "code",
   "execution_count": 12,
   "metadata": {},
   "outputs": [
    {
     "name": "stdout",
     "output_type": "stream",
     "text": [
      "Result: 0.9999997943832332\n",
      "Error: 2.056167668351705e-07\n"
     ]
    }
   ],
   "source": [
    "result = trapz(np.sin,0,np.pi/2,1000)\n",
    "print(\"Result:\", result)\n",
    "print(\"Error:\", 1.0-result)"
   ]
  },
  {
   "cell_type": "markdown",
   "metadata": {},
   "source": [
    "### Trapezoidal rule with Python modules"
   ]
  },
  {
   "cell_type": "markdown",
   "metadata": {},
   "source": [
    "The functions expect array-like objects as input. We need to define them."
   ]
  },
  {
   "cell_type": "code",
   "execution_count": 38,
   "metadata": {},
   "outputs": [],
   "source": [
    "n = 1000\n",
    "x = np.linspace( 0, np.pi/2, n )\n",
    "dx = np.pi/(2*n)\n",
    "f_sin = np.sin(x)"
   ]
  },
  {
   "cell_type": "markdown",
   "metadata": {},
   "source": [
    "#### Trapezoidal rule with NumPy"
   ]
  },
  {
   "cell_type": "code",
   "execution_count": 39,
   "metadata": {},
   "outputs": [
    {
     "name": "stdout",
     "output_type": "stream",
     "text": [
      "Result: 0.9989997941774106\n",
      "Error: 0.0010002058225894173\n"
     ]
    }
   ],
   "source": [
    "result = np.trapz( f_sin, dx = dx )\n",
    "print(\"Result:\", result)\n",
    "print(\"Error:\", 1.0-result)"
   ]
  },
  {
   "cell_type": "markdown",
   "metadata": {},
   "source": [
    "#### Trapezoidal rule with SciPy"
   ]
  },
  {
   "cell_type": "code",
   "execution_count": 40,
   "metadata": {},
   "outputs": [
    {
     "name": "stdout",
     "output_type": "stream",
     "text": [
      "Result: 0.9989997941774106\n",
      "Error: 0.0010002058225894173\n"
     ]
    }
   ],
   "source": [
    "result = scipy.integrate.trapz( f_sin, dx = dx )\n",
    "print(\"Result:\", result)\n",
    "print(\"Error:\", 1.0-result)"
   ]
  },
  {
   "cell_type": "markdown",
   "metadata": {},
   "source": [
    "## Simpson's rule"
   ]
  },
  {
   "cell_type": "markdown",
   "metadata": {},
   "source": [
    "Formula for Simpson's rule: <br>\n",
    "$S_{N}(f) = \\dfrac{\\Delta x}{3}\\cdot \\Large\\sum_{i=1}^{N/2}\\normalsize (f(x_{2i-2}) + 4f(x_{2i-1}) + f(x_{2i}))$"
   ]
  },
  {
   "cell_type": "code",
   "execution_count": 44,
   "metadata": {},
   "outputs": [],
   "source": [
    "def simps(f,a,b,N=50):\n",
    "    \n",
    "    '''Approximate the integral of f(x) from a to b by Simpson's rule.\n",
    "\n",
    "    Parameters\n",
    "    ----------\n",
    "    f : function\n",
    "        Vectorized function of a single variable\n",
    "    a , b : numbers\n",
    "        Interval of integration [a,b]\n",
    "    N : (even) integer\n",
    "        Number of subintervals of [a,b]; by default 50\n",
    "\n",
    "    Returns\n",
    "    -------\n",
    "    float\n",
    "        Approximation of the integral of f(x) from a to b using\n",
    "        Simpson's rule with N subintervals of equal length.\n",
    "    '''\n",
    "    if N % 2 == 1:\n",
    "        raise ValueError(\"N must be an even integer.\")\n",
    "    dx = (b-a)/N\n",
    "    x = np.linspace(a,b,N+1)\n",
    "    y = f(x)\n",
    "    S = dx/3 * np.sum(y[0:-1:2] + 4*y[1::2] + y[2::2])\n",
    "    return S"
   ]
  },
  {
   "cell_type": "markdown",
   "metadata": {},
   "source": [
    "(source for formula and cource code: https://www.math.ubc.ca/~pwalls/math-python/integration/simpsons-rule/)"
   ]
  },
  {
   "cell_type": "code",
   "execution_count": 45,
   "metadata": {},
   "outputs": [
    {
     "name": "stdout",
     "output_type": "stream",
     "text": [
      "1.000000000338236\n"
     ]
    }
   ],
   "source": [
    "result = simps(np.sin,0,np.pi/2,100)\n",
    "print(result)"
   ]
  },
  {
   "cell_type": "markdown",
   "metadata": {},
   "source": [
    "### Simpson's rule with SciPy"
   ]
  },
  {
   "cell_type": "code",
   "execution_count": 42,
   "metadata": {},
   "outputs": [
    {
     "name": "stdout",
     "output_type": "stream",
     "text": [
      "Result: 0.9989999998380923\n",
      "Error: 0.0010000001619077103\n"
     ]
    }
   ],
   "source": [
    "result = scipy.integrate.simps( f_sin, dx = dx )\n",
    "print(\"Result:\", result)\n",
    "print(\"Error:\", 1.0-result)"
   ]
  },
  {
   "cell_type": "markdown",
   "metadata": {},
   "source": [
    "## Some additional words"
   ]
  },
  {
   "cell_type": "markdown",
   "metadata": {},
   "source": [
    "- It is possible to calculate the maximum error of any Newton-Cotes formula depending on step size and the function to be integrated.\n",
    "- Feel free to modify this script, try out the other Newton-Cotes-formulas or your own ideas!"
   ]
  }
 ],
 "metadata": {
  "kernelspec": {
   "display_name": "Python 3",
   "language": "python",
   "name": "python3"
  },
  "language_info": {
   "codemirror_mode": {
    "name": "ipython",
    "version": 3
   },
   "file_extension": ".py",
   "mimetype": "text/x-python",
   "name": "python",
   "nbconvert_exporter": "python",
   "pygments_lexer": "ipython3",
   "version": "3.7.3"
  }
 },
 "nbformat": 4,
 "nbformat_minor": 2
}
