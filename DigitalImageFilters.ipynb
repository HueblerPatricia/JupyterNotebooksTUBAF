{
 "cells": [
  {
   "cell_type": "markdown",
   "metadata": {},
   "source": [
    "# Digital image processing in Python 3 - part I: digital image filters"
   ]
  },
  {
   "cell_type": "markdown",
   "metadata": {},
   "source": [
    "goals of image filtering:\n",
    "- reduce noise\n",
    "- let details stand out\n",
    "- ..."
   ]
  },
  {
   "cell_type": "markdown",
   "metadata": {},
   "source": [
    "## Preparations"
   ]
  },
  {
   "cell_type": "markdown",
   "metadata": {},
   "source": [
    "### Necessary modules"
   ]
  },
  {
   "cell_type": "code",
   "execution_count": 22,
   "metadata": {},
   "outputs": [],
   "source": [
    "%matplotlib inline\n",
    "import numpy as np                #working with arrays\n",
    "import matplotlib.pyplot as plt   #plot an image\n",
    "import matplotlib.image as mpimg\n",
    "import skimage\n",
    "from PIL import Image             #convert array to image"
   ]
  },
  {
   "cell_type": "markdown",
   "metadata": {},
   "source": [
    "### Create a rgb picture"
   ]
  },
  {
   "cell_type": "markdown",
   "metadata": {},
   "source": [
    "#### Some colors"
   ]
  },
  {
   "cell_type": "code",
   "execution_count": 80,
   "metadata": {},
   "outputs": [],
   "source": [
    "red           = [255,0  ,0  ]\n",
    "red_violet    = [255,0  ,64 ]\n",
    "red_wine      = [191,0  ,26 ]\n",
    "dark_red      = [64 ,0  ,0  ]\n",
    "green         = [0  ,255,0  ]\n",
    "blue          = [0  ,0  ,255]\n",
    "dark_blue     = [0  ,0  ,124]\n",
    "bright_blue   = [26 ,26 ,255]\n",
    "brown         = [145,111,124]\n",
    "purple        = [255,0  ,255]\n",
    "violet        = [126,0  ,255]\n",
    "yellow        = [255,255,0  ]\n",
    "deep_yellow   = [255,166,0  ]\n",
    "orange        = [255,212,45 ]\n",
    "cyan          = [0  ,255,255]\n",
    "blue_green    = [0  ,255,128]\n",
    "blueish_green = [0  ,255,64 ]\n",
    "white         = [255,255,255]\n",
    "black         = [0  ,0  ,0  ]"
   ]
  },
  {
   "cell_type": "markdown",
   "metadata": {},
   "source": [
    "#### Some color lists -> choose one!"
   ]
  },
  {
   "cell_type": "code",
   "execution_count": 82,
   "metadata": {},
   "outputs": [],
   "source": [
    "colorList_red = [red, red_wine, dark_red, yellow, deep_yellow, orange, brown]\n",
    "colorList_cyan = [green, blue, cyan, blue_green, blueish_green, dark_blue, bright_blue]\n",
    "\n",
    "colorList = colorList_cyan"
   ]
  },
  {
   "cell_type": "markdown",
   "metadata": {},
   "source": [
    "#### Array with 3 color layers as test image"
   ]
  },
  {
   "cell_type": "code",
   "execution_count": 83,
   "metadata": {},
   "outputs": [],
   "source": [
    "def rotateList(lst, rot):\n",
    "\n",
    "    '''Rotates a given list\n",
    "\n",
    "    Parameters\n",
    "    ----------\n",
    "    lst : list\n",
    "        list with entries of any data type\n",
    "    rot : integer\n",
    "        number of entries for the list to be rotated\n",
    "\n",
    "    Returns\n",
    "    -------\n",
    "    list\n",
    "        the rotated list\n",
    "    '''\n",
    "    l2 = lst[rot:] + lst[:rot]\n",
    "    return l2"
   ]
  },
  {
   "cell_type": "markdown",
   "metadata": {},
   "source": [
    "#### Function to draw picture"
   ]
  },
  {
   "cell_type": "code",
   "execution_count": 84,
   "metadata": {},
   "outputs": [],
   "source": [
    "#define the picture's side length\n",
    "pictSize = 120\n",
    "\n",
    "def drawSquares(colorList, pictSize):\n",
    "\n",
    "    '''creates a square shaped picture from colored squares\n",
    "\n",
    "    Parameters\n",
    "    ----------\n",
    "    colorList : list\n",
    "        list of rgb colors to use\n",
    "    pictSize : integer\n",
    "        side length of the future picture\n",
    "\n",
    "    Returns\n",
    "    -------\n",
    "    2D array\n",
    "        the ready and normed kernel\n",
    "    '''\n",
    "\n",
    "    pictSize = pictSize//len(colorList)\n",
    "    squareLen = pictSize\n",
    "    pictSize *= len(colorList)\n",
    "    pictarray = np.zeros([pictSize, pictSize, 3], dtype=np.uint8) #3 layers for r,g,b\n",
    "\n",
    "\n",
    "    lsta = 0\n",
    "    lstp = squareLen\n",
    "    for lines in range(0,len(colorList)):\n",
    "        csta = 0\n",
    "        cstp = squareLen\n",
    "        for col in range(0,len(colorList)):\n",
    "            pictarray[lsta:lstp,csta:cstp] = colorList[col]\n",
    "            csta += squareLen\n",
    "            cstp += squareLen\n",
    "        lsta += squareLen\n",
    "        lstp += squareLen\n",
    "        colorList = rotateList(colorList,-2)\n",
    "    return pictarray"
   ]
  },
  {
   "cell_type": "markdown",
   "metadata": {},
   "source": [
    "#### Plot the picture"
   ]
  },
  {
   "cell_type": "code",
   "execution_count": 85,
   "metadata": {},
   "outputs": [
    {
     "data": {
      "image/png": "[encoded data removed]",
      "text/plain": [
       "<Figure size 432x288 with 1 Axes>"
      ]
     },
     "metadata": {
      "needs_background": "light"
     },
     "output_type": "display_data"
    },
    {
     "data": {
      "text/plain": [
       "(119, 119, 3)"
      ]
     },
     "execution_count": 85,
     "metadata": {},
     "output_type": "execute_result"
    }
   ],
   "source": [
    "pictarray = drawSquares(colorList, pictSize)\n",
    "\n",
    "plt.imshow(pictarray)\n",
    "plt.show()\n",
    "pictarray.shape"
   ]
  },
  {
   "cell_type": "markdown",
   "metadata": {},
   "source": [
    "### Convert to grayscale"
   ]
  },
  {
   "cell_type": "markdown",
   "metadata": {},
   "source": [
    "First opportunity: Import function"
   ]
  },
  {
   "cell_type": "code",
   "execution_count": 86,
   "metadata": {},
   "outputs": [],
   "source": [
    "from skimage.color import rgb2gray"
   ]
  },
  {
   "cell_type": "markdown",
   "metadata": {},
   "source": [
    "Second opportunity: Define function yourself"
   ]
  },
  {
   "cell_type": "code",
   "execution_count": 87,
   "metadata": {},
   "outputs": [],
   "source": [
    "def rgb2gray(rgb):\n",
    "    r, g, b = rgb[:,:,0], rgb[:,:,1], rgb[:,:,2]\n",
    "    gray = 0.2989 * r + 0.5870 * g + 0.1140 * b\n",
    "    return gray"
   ]
  },
  {
   "cell_type": "markdown",
   "metadata": {},
   "source": [
    "Remark: You may change the color weights. Those above were taken from Wikipedia ( https://de.wikipedia.org/wiki/Grauwert )."
   ]
  },
  {
   "cell_type": "code",
   "execution_count": 88,
   "metadata": {},
   "outputs": [
    {
     "data": {
      "image/png": "[encoded data removed]",
      "text/plain": [
       "<Figure size 432x288 with 1 Axes>"
      ]
     },
     "metadata": {
      "needs_background": "light"
     },
     "output_type": "display_data"
    },
    {
     "data": {
      "text/plain": [
       "(119, 119)"
      ]
     },
     "execution_count": 88,
     "metadata": {},
     "output_type": "execute_result"
    }
   ],
   "source": [
    "gray = rgb2gray(pictarray)\n",
    "\n",
    "cmap = plt.get_cmap('gray')\n",
    "plt.imshow(gray, norm=None, cmap = cmap)\n",
    "plt.show()\n",
    "gray.shape"
   ]
  },
  {
   "cell_type": "markdown",
   "metadata": {},
   "source": [
    "\"gray.shape\" gives ( height, width ) $\\rightarrow $ only one color layer left"
   ]
  },
  {
   "cell_type": "markdown",
   "metadata": {},
   "source": [
    "## Digital image filters"
   ]
  },
  {
   "cell_type": "markdown",
   "metadata": {},
   "source": [
    " - ready implemented in OpenCV (see https://opencv-python-tutroals.readthedocs.io/en/latest/py_tutorials/py_imgproc/py_filtering/py_filtering.html)\n",
    " - literature: Gonzalez, Woods: Digital Image Processing. Third Edition. PHI Learning Private Limited. New Delhi, 2008. Chapter 3.4"
   ]
  },
  {
   "cell_type": "markdown",
   "metadata": {},
   "source": [
    "### Theory"
   ]
  },
  {
   "cell_type": "code",
   "execution_count": 39,
   "metadata": {},
   "outputs": [
    {
     "data": {
      "image/png": "[encoded data removed]",
      "text/plain": [
       "<Figure size 360x360 with 1 Axes>"
      ]
     },
     "metadata": {
      "needs_background": "light"
     },
     "output_type": "display_data"
    }
   ],
   "source": [
    "plt.figure(figsize = (5,5))\n",
    "plt.gca().invert_yaxis()\n",
    "for i in range ( 0, 9 ):\n",
    "    plt.axhline( y = i )\n",
    "    plt.axvline( x = i )\n",
    "plt.xlim( 0, 9 )\n",
    "plt.ylim( 9, 0 )\n",
    "plt.show()"
   ]
  },
  {
   "cell_type": "markdown",
   "metadata": {},
   "source": [
    "Imagine the grayscale image as table with pixel values."
   ]
  },
  {
   "cell_type": "code",
   "execution_count": 48,
   "metadata": {},
   "outputs": [
    {
     "data": {
      "image/png": "[encoded data removed]",
      "text/plain": [
       "<Figure size 360x360 with 1 Axes>"
      ]
     },
     "metadata": {
      "needs_background": "light"
     },
     "output_type": "display_data"
    }
   ],
   "source": [
    "import matplotlib.patches as mpatches\n",
    "rect = mpatches.Rectangle( (1,1), 3, 3, color = 'red', alpha = 0.4 )\n",
    "\n",
    "fig = plt.figure(figsize = (5,5))\n",
    "ax = fig.add_subplot(1,1,1)\n",
    "plt.gca().invert_yaxis()\n",
    "for i in range ( 0, 9 ):\n",
    "    plt.axhline( y = i )\n",
    "    plt.axvline( x = i )\n",
    "ax.add_patch(rect)\n",
    "plt.xlim( 0, 9 )\n",
    "plt.ylim( 9, 0 )\n",
    "plt.show()"
   ]
  },
  {
   "cell_type": "markdown",
   "metadata": {},
   "source": [
    "The red rectangle is called \"filter mask\" or \"kernel\". $\\rightarrow $ normally square with odd side length <br>\n",
    "Why odd? To work with integers easily!"
   ]
  },
  {
   "cell_type": "code",
   "execution_count": 56,
   "metadata": {},
   "outputs": [
    {
     "data": {
      "image/png": "[encoded data removed]",
      "text/plain": [
       "<Figure size 360x360 with 1 Axes>"
      ]
     },
     "metadata": {
      "needs_background": "light"
     },
     "output_type": "display_data"
    }
   ],
   "source": [
    "rect = mpatches.Rectangle( (1,1), 3, 3, color = 'red', alpha = 0.4 )\n",
    "fig = plt.figure(figsize = (5,5))\n",
    "ax = fig.add_subplot(1,1,1)\n",
    "plt.gca().invert_yaxis()\n",
    "for i in range ( 0, 9 ):\n",
    "    plt.axhline( y = i )\n",
    "    plt.axvline( x = i )\n",
    "ax.add_patch(rect)\n",
    "plt.xlim( 0, 9 )\n",
    "plt.ylim( 9, 0 )\n",
    "plt.text(2.25, 2.75, 'x', fontsize = 25)\n",
    "plt.show()"
   ]
  },
  {
   "cell_type": "markdown",
   "metadata": {},
   "source": [
    "New value of pixel \"x\" computed by <br>\n",
    "$new\\: value = \\dfrac{1}{m\\cdot n}\\cdot\\sum_{i=1,j=1}^{m,n} value\\: picture[i][j]\\cdot value\\: kernel[i][j] $"
   ]
  },
  {
   "cell_type": "markdown",
   "metadata": {},
   "source": [
    "### Convolution function"
   ]
  },
  {
   "cell_type": "code",
   "execution_count": 59,
   "metadata": {},
   "outputs": [],
   "source": [
    "def convolve(kernel,pictpart):\n",
    "\n",
    "    '''convolution in 2D\n",
    "\n",
    "    Parameters\n",
    "    ----------\n",
    "    kernel : 2D array of numbers\n",
    "       the filter mask to use\n",
    "       \n",
    "    pictpart : 2D array of numbers\n",
    "       currently active part of the picture\n",
    "    \n",
    "\n",
    "    Returns\n",
    "    -------\n",
    "    float\n",
    "       the new color value\n",
    "    '''\n",
    "    \n",
    "    s = 0.0\n",
    "    temparr=np.multiply(kernel,pictpart)\n",
    "    s = sum(temparr)\n",
    "    s = sum(s)\n",
    "    return s"
   ]
  },
  {
   "cell_type": "markdown",
   "metadata": {},
   "source": [
    "### Filter function "
   ]
  },
  {
   "cell_type": "code",
   "execution_count": 60,
   "metadata": {},
   "outputs": [],
   "source": [
    "def filter_image(pict, kernel):\n",
    "\n",
    "    '''image filtering\n",
    "\n",
    "    Parameters\n",
    "    ----------\n",
    "    pict : 2D array of numbers\n",
    "       an image of grayscale values\n",
    "\n",
    "    kernel : 2D array of numbers\n",
    "       the filter mask to use\n",
    "\n",
    "    Returns\n",
    "    -------\n",
    "    2D array\n",
    "       the modified grayscale image\n",
    "    '''\n",
    "    \n",
    "    newpict = pict[0:][0:].copy()\n",
    "    newpict.fill(0)\n",
    "    \n",
    "    pictpart = kernel.copy()\n",
    "    pictpart.fill(0)\n",
    "\n",
    "    for i in range(0+(kernel.shape[0]//2),  len(pict)-(kernel.shape[0])):\n",
    "        for j in range(0+(kernel.shape[1]//2),  len(pict[1])-(kernel.shape[1])):\n",
    "            \n",
    "            for k in range(0,  (kernel.shape[0])):\n",
    "                for l in range(0,  (kernel.shape[1])):\n",
    "                    pictpart[k][l]=pict[i+k][j+l]\n",
    "            newpict[i+(kernel.shape[0]//2)][j+(kernel.shape[1]//2)]=convolve(kernel, pictpart)\n",
    "    return newpict"
   ]
  },
  {
   "cell_type": "markdown",
   "metadata": {},
   "source": [
    "### Average filter - an example for linear image filters"
   ]
  },
  {
   "cell_type": "markdown",
   "metadata": {},
   "source": [
    "The kernel is a square nxn and all entries are of the same weight."
   ]
  },
  {
   "cell_type": "code",
   "execution_count": 90,
   "metadata": {},
   "outputs": [
    {
     "data": {
      "text/plain": [
       "array([[0.04, 0.04, 0.04, 0.04, 0.04],\n",
       "       [0.04, 0.04, 0.04, 0.04, 0.04],\n",
       "       [0.04, 0.04, 0.04, 0.04, 0.04],\n",
       "       [0.04, 0.04, 0.04, 0.04, 0.04],\n",
       "       [0.04, 0.04, 0.04, 0.04, 0.04]], dtype=float32)"
      ]
     },
     "execution_count": 90,
     "metadata": {},
     "output_type": "execute_result"
    }
   ],
   "source": [
    "n = 5\n",
    "kernel_average = np.ones((n,n), dtype=np.float32)\n",
    "kernel_average.fill(1/(n*n))\n",
    "kernel_average"
   ]
  },
  {
   "cell_type": "markdown",
   "metadata": {},
   "source": [
    "#### The blurred image"
   ]
  },
  {
   "cell_type": "code",
   "execution_count": 91,
   "metadata": {},
   "outputs": [
    {
     "data": {
      "image/png": "[encoded data removed]",
      "text/plain": [
       "<Figure size 432x288 with 1 Axes>"
      ]
     },
     "metadata": {
      "needs_background": "light"
     },
     "output_type": "display_data"
    }
   ],
   "source": [
    "img_average = filter_image(gray, kernel_average)\n",
    "\n",
    "plt.imshow(img_average, cmap = plt.get_cmap('gray'))\n",
    "plt.show()"
   ]
  },
  {
   "cell_type": "markdown",
   "metadata": {},
   "source": [
    "### Unsharp masking - an idea to go on"
   ]
  },
  {
   "cell_type": "markdown",
   "metadata": {},
   "source": [
    "idea: sharpen the original using the blurred image"
   ]
  },
  {
   "cell_type": "markdown",
   "metadata": {},
   "source": [
    "#### Difference picture"
   ]
  },
  {
   "cell_type": "code",
   "execution_count": 92,
   "metadata": {},
   "outputs": [
    {
     "data": {
      "image/png": "[encoded data removed]",
      "text/plain": [
       "<Figure size 432x288 with 1 Axes>"
      ]
     },
     "metadata": {
      "needs_background": "light"
     },
     "output_type": "display_data"
    }
   ],
   "source": [
    "diffPict = gray - img_average\n",
    "plt.imshow(diffPict, cmap = plt.get_cmap('gray'))\n",
    "plt.show()"
   ]
  },
  {
   "cell_type": "markdown",
   "metadata": {},
   "source": [
    "#### Unsharp masking"
   ]
  },
  {
   "cell_type": "markdown",
   "metadata": {},
   "source": [
    "$\\rightarrow $ add difference picture to original grayscale"
   ]
  },
  {
   "cell_type": "code",
   "execution_count": 94,
   "metadata": {},
   "outputs": [
    {
     "data": {
      "image/png": "[encoded data removed]",
      "text/plain": [
       "<Figure size 432x288 with 1 Axes>"
      ]
     },
     "metadata": {
      "needs_background": "light"
     },
     "output_type": "display_data"
    }
   ],
   "source": [
    "masked = gray + diffPict\n",
    "plt.imshow(masked, cmap = plt.get_cmap('gray'))\n",
    "plt.show()"
   ]
  },
  {
   "cell_type": "markdown",
   "metadata": {},
   "source": [
    "$\\rightarrow $ some contrast lost, but edges are visible better than surfaces"
   ]
  },
  {
   "cell_type": "markdown",
   "metadata": {},
   "source": [
    "### Average filter - all processing results compared"
   ]
  },
  {
   "cell_type": "code",
   "execution_count": 99,
   "metadata": {},
   "outputs": [
    {
     "data": {
      "text/plain": [
       "Text(0.5, 1.0, 'Unsharp masked')"
      ]
     },
     "execution_count": 99,
     "metadata": {},
     "output_type": "execute_result"
    },
    {
     "data": {
      "image/png": "[encoded data removed]",
      "text/plain": [
       "<Figure size 864x864 with 4 Axes>"
      ]
     },
     "metadata": {
      "needs_background": "light"
     },
     "output_type": "display_data"
    }
   ],
   "source": [
    "cmap = plt.get_cmap('gray')\n",
    "fig = plt.figure(figsize = (12,12))\n",
    "sub1 = plt.subplot(2,2,1)\n",
    "sub1.imshow(gray, cmap = cmap)\n",
    "sub1.set_title('Original grayscale')\n",
    "sub2 = plt.subplot(2,2,2)\n",
    "sub2.imshow(img_average, cmap = cmap)\n",
    "sub2.set_title('Average filtered')\n",
    "sub3 = plt.subplot(2,2,3)\n",
    "sub3.imshow(diffPict, cmap = cmap)\n",
    "sub3.set_title('Difference picture')\n",
    "sub4 = plt.subplot(2,2,4)\n",
    "sub4.imshow(masked, cmap = cmap)\n",
    "sub4.set_title('Unsharp masked')"
   ]
  },
  {
   "cell_type": "markdown",
   "metadata": {},
   "source": [
    "### Gaussian filter - other example for linear filters"
   ]
  },
  {
   "cell_type": "code",
   "execution_count": 95,
   "metadata": {},
   "outputs": [],
   "source": [
    "def create_gaussiankernel(site=5, sigma=1):\n",
    "    ax = np.arange(-site // 2 + 1., site // 2 + 1.)\n",
    "    xx, yy = np.meshgrid(ax, ax)\n",
    "\n",
    "    kernel = np.exp(-0.5 * (np.square(xx) + np.square(yy)) / np.square(sigma))\n",
    "\n",
    "    return kernel / np.sum(kernel)\n",
    "\n",
    "kernel_gauss = create_gaussiankernel(5,5)"
   ]
  },
  {
   "cell_type": "code",
   "execution_count": 96,
   "metadata": {},
   "outputs": [
    {
     "data": {
      "image/png": "[encoded data removed]",
      "text/plain": [
       "<Figure size 432x288 with 1 Axes>"
      ]
     },
     "metadata": {
      "needs_background": "light"
     },
     "output_type": "display_data"
    }
   ],
   "source": [
    "img_gauss = filter_image(gray, kernel_gauss)\n",
    "\n",
    "plt.imshow(img_gauss, cmap = plt.get_cmap('gray'))\n",
    "plt.show()"
   ]
  },
  {
   "cell_type": "markdown",
   "metadata": {},
   "source": [
    "### Non-linear filters"
   ]
  },
  {
   "cell_type": "markdown",
   "metadata": {},
   "source": [
    "- Median filter: take all pixel values located under the filter mask, sort them and take the value in the middle as new pixel value.\n",
    "- Maximum filter: see above, but now take the highest value\n",
    "- Minimum filter: the opposite"
   ]
  }
 ],
 "metadata": {
  "kernelspec": {
   "display_name": "Python 3",
   "language": "python",
   "name": "python3"
  },
  "language_info": {
   "codemirror_mode": {
    "name": "ipython",
    "version": 3
   },
   "file_extension": ".py",
   "mimetype": "text/x-python",
   "name": "python",
   "nbconvert_exporter": "python",
   "pygments_lexer": "ipython3",
   "version": "3.7.3"
  }
 },
 "nbformat": 4,
 "nbformat_minor": 2
}
