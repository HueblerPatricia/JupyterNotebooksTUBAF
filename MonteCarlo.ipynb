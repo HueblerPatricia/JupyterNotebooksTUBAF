{
 "cells": [
  {
   "cell_type": "markdown",
   "metadata": {},
   "source": [
    "# Approximation for pi using the Monte Carlo integration method"
   ]
  },
  {
   "cell_type": "markdown",
   "metadata": {},
   "source": [
    "literature: https://en.wikipedia.org/wiki/Monte_Carlo_method"
   ]
  },
  {
   "cell_type": "code",
   "execution_count": 1,
   "metadata": {},
   "outputs": [],
   "source": [
    "import numpy as np\n",
    "import matplotlib.pyplot as plt\n",
    "from scipy import sqrt"
   ]
  },
  {
   "cell_type": "markdown",
   "metadata": {},
   "source": [
    "## How does Monte Carlo integration work?"
   ]
  },
  {
   "cell_type": "markdown",
   "metadata": {},
   "source": [
    "given: \n",
    "- function f(x) to be integrated (higher dimensions optional)\n",
    "- integration borders as interval [a;b]"
   ]
  },
  {
   "cell_type": "markdown",
   "metadata": {},
   "source": [
    "method:\n",
    "- define a rectangle or square around the graph using a and b as left and right border\n",
    "- create a set of random points in this rectangle or square\n",
    "- count points under the graph and above the graph\n",
    "- compute probability for a point ending up under the graph\n",
    "- compare probability with total surface of rectangle $\\rightarrow $ that is the integral"
   ]
  },
  {
   "cell_type": "markdown",
   "metadata": {},
   "source": [
    "#### Illustration"
   ]
  },
  {
   "cell_type": "code",
   "execution_count": 2,
   "metadata": {},
   "outputs": [],
   "source": [
    "def circle_func(x):\n",
    "    \n",
    "    '''calculates f(x)\n",
    "\n",
    "    Parameters\n",
    "    ----------\n",
    "    x : number or array-like\n",
    "        x coordinate(s)\n",
    "\n",
    "    Returns\n",
    "    -------\n",
    "    number or array-like\n",
    "        y coordinate(s)\n",
    "    '''\n",
    "    \n",
    "    y = sqrt( r**2 - x**2 )\n",
    "    return y"
   ]
  },
  {
   "cell_type": "code",
   "execution_count": 3,
   "metadata": {},
   "outputs": [],
   "source": [
    "r = 1\n",
    "x1 = np.linspace( 0, r, 100 )\n",
    "f1 = circle_func(x1)"
   ]
  },
  {
   "cell_type": "code",
   "execution_count": 4,
   "metadata": {},
   "outputs": [],
   "source": [
    "import random\n",
    "\n",
    "def rand_points_square(n,a,b):\n",
    "    \n",
    "    '''gives random points in 2D\n",
    "\n",
    "    Parameters\n",
    "    ----------\n",
    "    n : number\n",
    "        amount of points\n",
    "    a , b : numbers\n",
    "        Interval of integration [a,b]\n",
    "\n",
    "    Returns\n",
    "    -------\n",
    "    2 arrays of 1D\n",
    "        x and y coordinates of random points\n",
    "    '''\n",
    "    \n",
    "\n",
    "    random.seed()\n",
    "    list_x = list()\n",
    "    list_y = list()\n",
    "    for i in range(0,n):\n",
    "        x = random.random() * b\n",
    "        y = random.random() * b\n",
    "        list_x.append(x)\n",
    "        list_y.append(y)\n",
    "    points_x = np.asarray(list_x)\n",
    "    points_y = np.asarray(list_y)\n",
    "    return points_x, points_y"
   ]
  },
  {
   "cell_type": "code",
   "execution_count": 5,
   "metadata": {},
   "outputs": [],
   "source": [
    "a = 0\n",
    "b = r\n",
    "n = 1000\n",
    "points_x, points_y = rand_points_square(n,a,b)"
   ]
  },
  {
   "cell_type": "code",
   "execution_count": 6,
   "metadata": {},
   "outputs": [
    {
     "data": {
      "image/png": "[encoded data removed]",
      "text/plain": [
       "<Figure size 360x360 with 1 Axes>"
      ]
     },
     "metadata": {
      "needs_background": "light"
     },
     "output_type": "display_data"
    }
   ],
   "source": [
    "plt.figure(figsize = (5,5))\n",
    "plt.plot(x1,f1)\n",
    "plt.scatter(points_x, points_y, s = 10, color = 'blue', marker = \".\")\n",
    "plt.xlim(0,r)\n",
    "plt.ylim(0,r)\n",
    "plt.axis('equal')\n",
    "plt.fill_between(x1, f1, color=\"b\", alpha=.1)\n",
    "plt.show()"
   ]
  },
  {
   "cell_type": "markdown",
   "metadata": {},
   "source": [
    "nexts things to do:\n",
    "- find out, which point belongs to surface under graph, which does not and count one of them \n",
    "- calculate surface"
   ]
  },
  {
   "cell_type": "markdown",
   "metadata": {},
   "source": [
    "### Count points located on surface"
   ]
  },
  {
   "cell_type": "code",
   "execution_count": 7,
   "metadata": {},
   "outputs": [],
   "source": [
    "def counts_under_graph(x,y,func):\n",
    "    \n",
    "    '''counts points under graph\n",
    "\n",
    "    Parameters\n",
    "    ----------\n",
    "    x, y : array-like\n",
    "        coordinates of points\n",
    "    func : string\n",
    "        the function to be considered\n",
    "\n",
    "    Returns\n",
    "    -------\n",
    "    integer\n",
    "        number of points under graph\n",
    "    '''\n",
    "\n",
    "    counts_true = 0\n",
    "\n",
    "    for i in range(0, len(x)-1):\n",
    "        y2 = func(x[i])\n",
    "        distance = y2 - y[i]\n",
    "        if distance >= 0:\n",
    "            counts_true += 1\n",
    "        else:\n",
    "            counts_true = counts_true\n",
    "    return counts_true"
   ]
  },
  {
   "cell_type": "code",
   "execution_count": 8,
   "metadata": {},
   "outputs": [
    {
     "name": "stdout",
     "output_type": "stream",
     "text": [
      "773\n"
     ]
    }
   ],
   "source": [
    "counts = counts_under_graph(points_x, points_y, circle_func)\n",
    "print(counts)"
   ]
  },
  {
   "cell_type": "markdown",
   "metadata": {},
   "source": [
    "### Calculate approximation for surface"
   ]
  },
  {
   "cell_type": "markdown",
   "metadata": {},
   "source": [
    "$ \\dfrac{surface}{entire} = \\dfrac{counts}{n} \\Leftrightarrow  surface = \\dfrac{entire\\cdot counts}{n}$"
   ]
  },
  {
   "cell_type": "code",
   "execution_count": 9,
   "metadata": {},
   "outputs": [
    {
     "name": "stdout",
     "output_type": "stream",
     "text": [
      "0.773\n"
     ]
    }
   ],
   "source": [
    "entire = b**2\n",
    "\n",
    "surface = (entire*counts)/n\n",
    "print(surface)"
   ]
  },
  {
   "cell_type": "markdown",
   "metadata": {},
   "source": [
    "## We have the surface - now the approximation for pi!"
   ]
  },
  {
   "cell_type": "markdown",
   "metadata": {},
   "source": [
    "$ surface\\: of\\: circle: \\qquad A = \\pi \\cdot r^2 \\Leftrightarrow \\pi = \\dfrac{A}{r^2} $ <br>\n",
    "We have a circle's fourth, so ... <br>\n",
    "$ \\pi = \\dfrac{4\\cdot surface}{r^2} $ "
   ]
  },
  {
   "cell_type": "code",
   "execution_count": 10,
   "metadata": {},
   "outputs": [
    {
     "name": "stdout",
     "output_type": "stream",
     "text": [
      "Approximation: pi =  3.092\n",
      "Error:  0.049592653589793034\n"
     ]
    }
   ],
   "source": [
    "pi_approx = (4*surface)/(r**2)\n",
    "difference = abs(np.pi - pi_approx)\n",
    "\n",
    "print(\"Approximation: pi = \", pi_approx)\n",
    "print(\"Error: \", difference)"
   ]
  },
  {
   "cell_type": "markdown",
   "metadata": {},
   "source": [
    "To make things easier, we pack the entire process into one final function."
   ]
  },
  {
   "cell_type": "code",
   "execution_count": 11,
   "metadata": {},
   "outputs": [],
   "source": [
    "def approx_pi(n,a,b,r):\n",
    "    \n",
    "    '''approximation for pi using the functions above\n",
    "\n",
    "    Parameters\n",
    "    ----------\n",
    "    n : integer\n",
    "        number of random points\n",
    "    a,b : numbers\n",
    "        limits of integration interval\n",
    "    r : number\n",
    "        the circle's radius\n",
    "\n",
    "    Returns\n",
    "    -------\n",
    "    float, float\n",
    "        approximation of pi, It's error\n",
    "    '''\n",
    "\n",
    "    points_x, points_y = rand_points_square(n,a,b)\n",
    "    counts = counts_under_graph(points_x, points_y, circle_func)\n",
    "    surface = (entire*counts)/n\n",
    "    pi_approx = (4*surface)/(r**2)\n",
    "    difference = abs(np.pi - pi_approx)\n",
    "    return pi_approx, difference"
   ]
  },
  {
   "cell_type": "markdown",
   "metadata": {},
   "source": [
    "And now repeat the experiment with higher n! You will see, the error reduces."
   ]
  },
  {
   "cell_type": "code",
   "execution_count": 13,
   "metadata": {},
   "outputs": [
    {
     "name": "stdout",
     "output_type": "stream",
     "text": [
      "Approximation: pi =  3.14788\n",
      "Error:  0.006287346410206673\n"
     ]
    }
   ],
   "source": [
    "n = 100000\n",
    "\n",
    "pi_approx, difference = approx_pi(n,a,b,r)\n",
    "\n",
    "print(\"Approximation: pi = \", pi_approx)\n",
    "print(\"Error: \", difference)"
   ]
  },
  {
   "cell_type": "markdown",
   "metadata": {},
   "source": [
    "## Behaviour of the error"
   ]
  },
  {
   "cell_type": "code",
   "execution_count": 29,
   "metadata": {},
   "outputs": [
    {
     "name": "stdout",
     "output_type": "stream",
     "text": [
      "[  20  545 1070 1595 2121 2646 3171 3696 4222 4747 5272 5797 6323 6848\n",
      " 7373 7898 8424 8949 9474]\n",
      "[0.25840735 0.0076477  0.00888237 0.07701585 0.0241952  0.03301052\n",
      " 0.02460098 0.02074501 0.03983795 0.00144505 0.00939369 0.00348239\n",
      " 0.0386352  0.01951321 0.0082785  0.01219281 0.00085749 0.01138533\n",
      " 0.022013  ]\n"
     ]
    }
   ],
   "source": [
    "n_array = np.linspace(20, 10000, 20)\n",
    "diff_list = list()\n",
    "n_list = list()\n",
    "\n",
    "for i in range(0, len(n_array)-1):\n",
    "    nvar = int(n_array[i])\n",
    "    pi_approx, diff = approx_pi(nvar,a,b,r)\n",
    "    n_list.append(nvar)\n",
    "    diff_list.append(diff)\n",
    "\n",
    "n_array = np.asarray(n_list)\n",
    "diff_array = np.asarray(diff_list)\n",
    "\n",
    "#print(n_array)\n",
    "#print(diff_array)"
   ]
  },
  {
   "cell_type": "code",
   "execution_count": 32,
   "metadata": {},
   "outputs": [
    {
     "data": {
      "image/png": "[encoded data removed]",
      "text/plain": [
       "<Figure size 432x288 with 1 Axes>"
      ]
     },
     "metadata": {
      "needs_background": "light"
     },
     "output_type": "display_data"
    }
   ],
   "source": [
    "plt.figure()\n",
    "plt.plot(n_array, diff_array)\n",
    "plt.xlabel(\"number of random points\")\n",
    "plt.ylabel(\"error\")\n",
    "plt.show()"
   ]
  }
 ],
 "metadata": {
  "kernelspec": {
   "display_name": "Python 3",
   "language": "python",
   "name": "python3"
  },
  "language_info": {
   "codemirror_mode": {
    "name": "ipython",
    "version": 3
   },
   "file_extension": ".py",
   "mimetype": "text/x-python",
   "name": "python",
   "nbconvert_exporter": "python",
   "pygments_lexer": "ipython3",
   "version": "3.7.3"
  }
 },
 "nbformat": 4,
 "nbformat_minor": 2
}
